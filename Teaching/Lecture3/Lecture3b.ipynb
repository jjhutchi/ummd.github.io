{
  "nbformat": 4,
  "nbformat_minor": 0,
  "metadata": {
    "kernelspec": {
      "display_name": "R",
      "language": "R",
      "name": "ir"
    },
    "language_info": {
      "codemirror_mode": "r",
      "file_extension": ".r",
      "mimetype": "text/x-r-source",
      "name": "R",
      "pygments_lexer": "r",
      "version": "3.5.0"
    },
    "colab": {
      "name": "Lecture3b.ipynb",
      "provenance": []
    }
  },
  "cells": [
    {
      "cell_type": "markdown",
      "metadata": {
        "id": "JzdVVDfYl1fy",
        "colab_type": "text"
      },
      "source": [
        "# Lecture 3b\n",
        "## Example: Sales Data"
      ]
    },
    {
      "cell_type": "code",
      "metadata": {
        "id": "V2XMn-Qtl1fz",
        "colab_type": "code",
        "colab": {}
      },
      "source": [
        "if (!require(lmtest)) install.packages(\"lmtest\")\n",
        "\n",
        "library(lmtest) #loads package for hypothesis testing. It contains the function coeftest()"
      ],
      "execution_count": 6,
      "outputs": []
    },
    {
      "cell_type": "code",
      "metadata": {
        "id": "hgp681SJmvoP",
        "colab_type": "code",
        "colab": {}
      },
      "source": [
        "Advertising <- read.csv(\"https://ummd.github.io/Teaching/Data/Advertising.csv\") #load data"
      ],
      "execution_count": 7,
      "outputs": []
    },
    {
      "cell_type": "code",
      "metadata": {
        "id": "8g2Af2Ufl1f5",
        "colab_type": "code",
        "colab": {
          "base_uri": "https://localhost:8080/",
          "height": 102
        },
        "outputId": "3f6891f2-00a1-47ee-d6fc-45950847cb51"
      },
      "source": [
        "attach(Advertising) #attach variable names"
      ],
      "execution_count": 8,
      "outputs": [
        {
          "output_type": "stream",
          "text": [
            "The following objects are masked from Advertising (pos = 5):\n",
            "\n",
            "    newspaper, radio, sales, TV, X\n",
            "\n",
            "\n"
          ],
          "name": "stderr"
        }
      ]
    },
    {
      "cell_type": "code",
      "metadata": {
        "id": "SXuro5FJl1f9",
        "colab_type": "code",
        "colab": {
          "base_uri": "https://localhost:8080/",
          "height": 323
        },
        "outputId": "0cae690b-ec16-4494-abe1-a0bc294e4510"
      },
      "source": [
        "lm.fit=lm(sales~TV) # estimate a linear model regressing sales on TV\n",
        "summary(lm.fit) # display results"
      ],
      "execution_count": 9,
      "outputs": [
        {
          "output_type": "display_data",
          "data": {
            "text/plain": [
              "\n",
              "Call:\n",
              "lm(formula = sales ~ TV)\n",
              "\n",
              "Residuals:\n",
              "    Min      1Q  Median      3Q     Max \n",
              "-8.3860 -1.9545 -0.1913  2.0671  7.2124 \n",
              "\n",
              "Coefficients:\n",
              "            Estimate Std. Error t value Pr(>|t|)    \n",
              "(Intercept) 7.032594   0.457843   15.36   <2e-16 ***\n",
              "TV          0.047537   0.002691   17.67   <2e-16 ***\n",
              "---\n",
              "Signif. codes:  0 ‘***’ 0.001 ‘**’ 0.01 ‘*’ 0.05 ‘.’ 0.1 ‘ ’ 1\n",
              "\n",
              "Residual standard error: 3.259 on 198 degrees of freedom\n",
              "Multiple R-squared:  0.6119,\tAdjusted R-squared:  0.6099 \n",
              "F-statistic: 312.1 on 1 and 198 DF,  p-value: < 2.2e-16\n"
            ]
          },
          "metadata": {
            "tags": []
          }
        }
      ]
    },
    {
      "cell_type": "markdown",
      "metadata": {
        "id": "EN5PILNol1gB",
        "colab_type": "text"
      },
      "source": [
        "## Confidence Intervals"
      ]
    },
    {
      "cell_type": "code",
      "metadata": {
        "id": "6XVXMb1_l1gB",
        "colab_type": "code",
        "colab": {
          "base_uri": "https://localhost:8080/",
          "height": 99
        },
        "outputId": "a9826038-5044-4e49-c2e1-3c50173c3277"
      },
      "source": [
        "confint(lm.fit) # calculate confidence intervals"
      ],
      "execution_count": 10,
      "outputs": [
        {
          "output_type": "display_data",
          "data": {
            "text/plain": [
              "            2.5 %      97.5 %    \n",
              "(Intercept) 6.12971927 7.93546783\n",
              "TV          0.04223072 0.05284256"
            ],
            "text/latex": "A matrix: 2 × 2 of type dbl\n\\begin{tabular}{r|ll}\n  & 2.5 \\% & 97.5 \\%\\\\\n\\hline\n\t(Intercept) & 6.12971927 & 7.93546783\\\\\n\tTV & 0.04223072 & 0.05284256\\\\\n\\end{tabular}\n",
            "text/markdown": "\nA matrix: 2 × 2 of type dbl\n\n| <!--/--> | 2.5 % | 97.5 % |\n|---|---|---|\n| (Intercept) | 6.12971927 | 7.93546783 |\n| TV | 0.04223072 | 0.05284256 |\n\n",
            "text/html": [
              "<table>\n",
              "<caption>A matrix: 2 × 2 of type dbl</caption>\n",
              "<thead>\n",
              "\t<tr><th></th><th scope=col>2.5 %</th><th scope=col>97.5 %</th></tr>\n",
              "</thead>\n",
              "<tbody>\n",
              "\t<tr><th scope=row>(Intercept)</th><td>6.12971927</td><td>7.93546783</td></tr>\n",
              "\t<tr><th scope=row>TV</th><td>0.04223072</td><td>0.05284256</td></tr>\n",
              "</tbody>\n",
              "</table>\n"
            ]
          },
          "metadata": {
            "tags": []
          }
        }
      ]
    },
    {
      "cell_type": "markdown",
      "metadata": {
        "id": "ktTH7F5Zl1gE",
        "colab_type": "text"
      },
      "source": [
        "## Hypothesis Testing"
      ]
    },
    {
      "cell_type": "markdown",
      "metadata": {
        "id": "YAEghe2rl1gF",
        "colab_type": "text"
      },
      "source": [
        "From the table above, we can extract the test statistic and the p-value"
      ]
    },
    {
      "cell_type": "code",
      "metadata": {
        "id": "wXpvCANtl1gF",
        "colab_type": "code",
        "colab": {
          "base_uri": "https://localhost:8080/",
          "height": 34
        },
        "outputId": "601047ba-e6a0-46c4-885b-2eca6dfca27c"
      },
      "source": [
        "summary(lm.fit)$coefficients[,3] # test statistics for boht intercept and TV"
      ],
      "execution_count": 11,
      "outputs": [
        {
          "output_type": "display_data",
          "data": {
            "text/plain": [
              "(Intercept)          TV \n",
              "   15.36028    17.66763 "
            ],
            "text/latex": "\\begin{description*}\n\\item[(Intercept)] 15.3602751741175\n\\item[TV] 17.6676256008755\n\\end{description*}\n",
            "text/markdown": "(Intercept)\n:   15.3602751741175TV\n:   17.6676256008755\n\n",
            "text/html": [
              "<style>\n",
              ".dl-inline {width: auto; margin:0; padding: 0}\n",
              ".dl-inline>dt, .dl-inline>dd {float: none; width: auto; display: inline-block}\n",
              ".dl-inline>dt::after {content: \":\\0020\"; padding-right: .5ex}\n",
              ".dl-inline>dt:not(:first-of-type) {padding-left: .5ex}\n",
              "</style><dl class=dl-inline><dt>(Intercept)</dt><dd>15.3602751741175</dd><dt>TV</dt><dd>17.6676256008755</dd></dl>\n"
            ]
          },
          "metadata": {
            "tags": []
          }
        }
      ]
    },
    {
      "cell_type": "code",
      "metadata": {
        "id": "Olv74p3_l1gI",
        "colab_type": "code",
        "colab": {},
        "outputId": "af19ed6d-d2af-4de8-94d4-392df05f6b8e"
      },
      "source": [
        "summary(lm.fit)$coefficients[2,4] # p-values for TV only"
      ],
      "execution_count": null,
      "outputs": [
        {
          "output_type": "display_data",
          "data": {
            "text/html": [
              "1.46738970019472e-42"
            ],
            "text/latex": "1.46738970019472e-42",
            "text/markdown": "1.46738970019472e-42",
            "text/plain": [
              "[1] 1.46739e-42"
            ]
          },
          "metadata": {
            "tags": []
          }
        }
      ]
    },
    {
      "cell_type": "markdown",
      "metadata": {
        "id": "jlsioHfjl1gL",
        "colab_type": "text"
      },
      "source": [
        "Notice that this p-values is very small. This means that, under the null hypothesis of no effect of TV on sales, it is **extremely** unlikely that we would have observed this test statistic."
      ]
    },
    {
      "cell_type": "markdown",
      "metadata": {
        "id": "yiQ5nF4Bl1gM",
        "colab_type": "text"
      },
      "source": [
        "How confidant can we be? We pick a probability level (typically 0.05) that we are willing to make a mistake and reject a true null hypothesis. This is called a Type I error. \n",
        "\n",
        "Since our p-value is lower than 0.05, we can **reject the null** of $\\beta_1=0$ in favour of the alternative at the 0.05 level."
      ]
    },
    {
      "cell_type": "code",
      "metadata": {
        "id": "jp16c7LLl1gN",
        "colab_type": "code",
        "colab": {
          "base_uri": "https://localhost:8080/",
          "height": 153
        },
        "outputId": "c3b9d030-b151-452b-9cb0-c5151bd4932e"
      },
      "source": [
        "coeftest(lm.fit) # The coeftest() will run the test for us"
      ],
      "execution_count": 12,
      "outputs": [
        {
          "output_type": "display_data",
          "data": {
            "text/plain": [
              "\n",
              "t test of coefficients:\n",
              "\n",
              "             Estimate Std. Error t value  Pr(>|t|)    \n",
              "(Intercept) 7.0325935  0.4578429  15.360 < 2.2e-16 ***\n",
              "TV          0.0475366  0.0026906  17.668 < 2.2e-16 ***\n",
              "---\n",
              "Signif. codes:  0 ‘***’ 0.001 ‘**’ 0.01 ‘*’ 0.05 ‘.’ 0.1 ‘ ’ 1\n"
            ]
          },
          "metadata": {
            "tags": []
          }
        }
      ]
    },
    {
      "cell_type": "markdown",
      "metadata": {
        "id": "Mn784xNhl1gP",
        "colab_type": "text"
      },
      "source": [
        "### Relationship between correlation and $R^2$"
      ]
    },
    {
      "cell_type": "code",
      "metadata": {
        "id": "pRVaWO_ql1gQ",
        "colab_type": "code",
        "colab": {},
        "outputId": "7eec8609-600f-46cd-a2f9-8b253afb4315"
      },
      "source": [
        "cor(sales,TV)"
      ],
      "execution_count": null,
      "outputs": [
        {
          "output_type": "display_data",
          "data": {
            "text/html": [
              "0.782224424861606"
            ],
            "text/latex": "0.782224424861606",
            "text/markdown": "0.782224424861606",
            "text/plain": [
              "[1] 0.7822244"
            ]
          },
          "metadata": {
            "tags": []
          }
        }
      ]
    },
    {
      "cell_type": "code",
      "metadata": {
        "id": "JCe_564al1gT",
        "colab_type": "code",
        "colab": {},
        "outputId": "84dcd866-08b0-4aff-d8eb-82af68596062"
      },
      "source": [
        "cor(sales,TV)^2 "
      ],
      "execution_count": null,
      "outputs": [
        {
          "output_type": "display_data",
          "data": {
            "text/html": [
              "0.611875050850071"
            ],
            "text/latex": "0.611875050850071",
            "text/markdown": "0.611875050850071",
            "text/plain": [
              "[1] 0.6118751"
            ]
          },
          "metadata": {
            "tags": []
          }
        }
      ]
    },
    {
      "cell_type": "markdown",
      "metadata": {
        "id": "5SjRG8M6l1gV",
        "colab_type": "text"
      },
      "source": [
        "$R^2$ and correlation are the same for the simple linear model. But the benefit if $R^2$ is that it can be applied to more complicated models..."
      ]
    }
  ]
}