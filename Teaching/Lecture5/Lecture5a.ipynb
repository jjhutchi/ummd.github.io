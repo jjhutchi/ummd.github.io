{
  "nbformat": 4,
  "nbformat_minor": 0,
  "metadata": {
    "kernelspec": {
      "display_name": "R",
      "language": "R",
      "name": "ir"
    },
    "language_info": {
      "codemirror_mode": "r",
      "file_extension": ".r",
      "mimetype": "text/x-r-source",
      "name": "R",
      "pygments_lexer": "r",
      "version": "3.5.0"
    },
    "colab": {
      "name": "Lecture5a.ipynb",
      "provenance": []
    }
  },
  "cells": [
    {
      "cell_type": "markdown",
      "metadata": {
        "id": "BjV6S5aOvH_T",
        "colab_type": "text"
      },
      "source": [
        "# Lecture 5\n",
        "## Interaction Effects"
      ]
    },
    {
      "cell_type": "code",
      "metadata": {
        "id": "Xf9DNyyDvH_e",
        "colab_type": "code",
        "colab": {}
      },
      "source": [
        "Advertising <- read.csv(\"https://ummd.github.io/Teaching/Data/Advertising.csv\") #load data\n",
        "attach(Advertising) #attach variable names"
      ],
      "execution_count": 1,
      "outputs": []
    },
    {
      "cell_type": "markdown",
      "metadata": {
        "id": "yxSjXCiVvH_n",
        "colab_type": "text"
      },
      "source": [
        "The following model specifies an interaction effect together with the \"main\" effects of TV and radio."
      ]
    },
    {
      "cell_type": "code",
      "metadata": {
        "id": "QlLZ71ajvH_o",
        "colab_type": "code",
        "colab": {},
        "outputId": "099a026d-f4b9-4c78-e31f-ca8e1eb39989"
      },
      "source": [
        "lm.fit=lm(sales~TV+radio+TV:radio) # estimate a linear model regressing sales on TV, radio, and the interaction of Tv and Radio\n",
        "summary(lm.fit) # display results"
      ],
      "execution_count": null,
      "outputs": [
        {
          "output_type": "display_data",
          "data": {
            "text/plain": [
              "\n",
              "Call:\n",
              "lm(formula = sales ~ TV + radio + TV:radio)\n",
              "\n",
              "Residuals:\n",
              "    Min      1Q  Median      3Q     Max \n",
              "-6.3366 -0.4028  0.1831  0.5948  1.5246 \n",
              "\n",
              "Coefficients:\n",
              "             Estimate Std. Error t value Pr(>|t|)    \n",
              "(Intercept) 6.750e+00  2.479e-01  27.233   <2e-16 ***\n",
              "TV          1.910e-02  1.504e-03  12.699   <2e-16 ***\n",
              "radio       2.886e-02  8.905e-03   3.241   0.0014 ** \n",
              "TV:radio    1.086e-03  5.242e-05  20.727   <2e-16 ***\n",
              "---\n",
              "Signif. codes:  0 ‘***’ 0.001 ‘**’ 0.01 ‘*’ 0.05 ‘.’ 0.1 ‘ ’ 1\n",
              "\n",
              "Residual standard error: 0.9435 on 196 degrees of freedom\n",
              "Multiple R-squared:  0.9678,\tAdjusted R-squared:  0.9673 \n",
              "F-statistic:  1963 on 3 and 196 DF,  p-value: < 2.2e-16\n"
            ]
          },
          "metadata": {
            "tags": []
          }
        }
      ]
    },
    {
      "cell_type": "markdown",
      "metadata": {
        "id": "FzvG6OycvH_u",
        "colab_type": "text"
      },
      "source": [
        "This following spcifies the same model, but as a \"full set\" of both main and interaction terms"
      ]
    },
    {
      "cell_type": "code",
      "metadata": {
        "id": "VX3Yt5xLvH_v",
        "colab_type": "code",
        "colab": {},
        "outputId": "d547da72-c24c-4782-fad6-40d683da84fa"
      },
      "source": [
        "lm.fit=lm(sales~TV*radio) # estimate a linear model regressing sales on the full set of main and interaction terms\n",
        "summary(lm.fit) # display results"
      ],
      "execution_count": null,
      "outputs": [
        {
          "output_type": "display_data",
          "data": {
            "text/plain": [
              "\n",
              "Call:\n",
              "lm(formula = sales ~ TV * radio)\n",
              "\n",
              "Residuals:\n",
              "    Min      1Q  Median      3Q     Max \n",
              "-6.3366 -0.4028  0.1831  0.5948  1.5246 \n",
              "\n",
              "Coefficients:\n",
              "             Estimate Std. Error t value Pr(>|t|)    \n",
              "(Intercept) 6.750e+00  2.479e-01  27.233   <2e-16 ***\n",
              "TV          1.910e-02  1.504e-03  12.699   <2e-16 ***\n",
              "radio       2.886e-02  8.905e-03   3.241   0.0014 ** \n",
              "TV:radio    1.086e-03  5.242e-05  20.727   <2e-16 ***\n",
              "---\n",
              "Signif. codes:  0 ‘***’ 0.001 ‘**’ 0.01 ‘*’ 0.05 ‘.’ 0.1 ‘ ’ 1\n",
              "\n",
              "Residual standard error: 0.9435 on 196 degrees of freedom\n",
              "Multiple R-squared:  0.9678,\tAdjusted R-squared:  0.9673 \n",
              "F-statistic:  1963 on 3 and 196 DF,  p-value: < 2.2e-16\n"
            ]
          },
          "metadata": {
            "tags": []
          }
        }
      ]
    }
  ]
}