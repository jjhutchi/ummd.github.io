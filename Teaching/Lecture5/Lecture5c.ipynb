{
  "nbformat": 4,
  "nbformat_minor": 0,
  "metadata": {
    "kernelspec": {
      "display_name": "R",
      "language": "R",
      "name": "ir"
    },
    "language_info": {
      "codemirror_mode": "r",
      "file_extension": ".r",
      "mimetype": "text/x-r-source",
      "name": "R",
      "pygments_lexer": "r",
      "version": "3.5.0"
    },
    "colab": {
      "name": "Lecture5c.ipynb",
      "provenance": []
    }
  },
  "cells": [
    {
      "cell_type": "markdown",
      "metadata": {
        "id": "nTwFe_MtwO06",
        "colab_type": "text"
      },
      "source": [
        "# Robust Estimator of Covariance Matrix\n",
        "\n",
        "## A dataset without heteroskedasticity"
      ]
    },
    {
      "cell_type": "code",
      "metadata": {
        "id": "5QFPyDfLwX0v",
        "colab_type": "code",
        "colab": {
          "base_uri": "https://localhost:8080/",
          "height": 306
        },
        "outputId": "68a09f22-e36d-46bf-cb18-ad7ae3de7593"
      },
      "source": [
        "if (!require(lmtest)) install.packages(\"lmtest\")\n",
        "if (!require(sandwich)) install.packages(\"sandwich\")\n",
        "\n",
        "library(lmtest)\n",
        "library(sandwich)\n"
      ],
      "execution_count": 1,
      "outputs": [
        {
          "output_type": "stream",
          "text": [
            "Loading required package: lmtest\n",
            "\n",
            "Warning message in library(package, lib.loc = lib.loc, character.only = TRUE, logical.return = TRUE, :\n",
            "“there is no package called ‘lmtest’”\n",
            "Installing package into ‘/usr/local/lib/R/site-library’\n",
            "(as ‘lib’ is unspecified)\n",
            "\n",
            "also installing the dependency ‘zoo’\n",
            "\n",
            "\n",
            "Loading required package: sandwich\n",
            "\n",
            "Warning message in library(package, lib.loc = lib.loc, character.only = TRUE, logical.return = TRUE, :\n",
            "“there is no package called ‘sandwich’”\n",
            "Installing package into ‘/usr/local/lib/R/site-library’\n",
            "(as ‘lib’ is unspecified)\n",
            "\n"
          ],
          "name": "stderr"
        }
      ]
    },
    {
      "cell_type": "code",
      "metadata": {
        "id": "cY2d46OnwO08",
        "colab_type": "code",
        "colab": {
          "base_uri": "https://localhost:8080/",
          "height": 323
        },
        "outputId": "4120b054-6567-48aa-f490-6db72f8a646b"
      },
      "source": [
        "\n",
        "set.seed(1)\n",
        "N<-50\n",
        "# generate linear regression relationship\n",
        "# with Homoskedastic variances\n",
        "b<-.1\n",
        "\n",
        "x <- sin(1:N)\n",
        "y <- 1 + b*x + 5*rnorm(N)\n",
        "## model fit and HC3 covariance\n",
        "lm.fit <- lm(y ~ x)\n",
        "\n",
        "summary(lm.fit)"
      ],
      "execution_count": 3,
      "outputs": [
        {
          "output_type": "display_data",
          "data": {
            "text/plain": [
              "\n",
              "Call:\n",
              "lm(formula = y ~ x)\n",
              "\n",
              "Residuals:\n",
              "     Min       1Q   Median       3Q      Max \n",
              "-11.2556  -2.5615   0.1541   3.0105   7.2307 \n",
              "\n",
              "Coefficients:\n",
              "            Estimate Std. Error t value Pr(>|t|)  \n",
              "(Intercept)   1.5016     0.5931   2.532   0.0147 *\n",
              "x            -0.2225     0.8368  -0.266   0.7914  \n",
              "---\n",
              "Signif. codes:  0 ‘***’ 0.001 ‘**’ 0.01 ‘*’ 0.05 ‘.’ 0.1 ‘ ’ 1\n",
              "\n",
              "Residual standard error: 4.194 on 48 degrees of freedom\n",
              "Multiple R-squared:  0.001471,\tAdjusted R-squared:  -0.01933 \n",
              "F-statistic: 0.07073 on 1 and 48 DF,  p-value: 0.7914\n"
            ]
          },
          "metadata": {
            "tags": []
          }
        }
      ]
    },
    {
      "cell_type": "markdown",
      "metadata": {
        "id": "cyaB-6rzwO1E",
        "colab_type": "text"
      },
      "source": [
        "### With heteroskdasticity"
      ]
    },
    {
      "cell_type": "code",
      "metadata": {
        "id": "cVj1RxdhwO1G",
        "colab_type": "code",
        "colab": {}
      },
      "source": [
        "set.seed(1)\n",
        "\n",
        "y <- 1 + b*x + 5*rnorm(N,mean=0,sd=1+x)"
      ],
      "execution_count": null,
      "outputs": []
    },
    {
      "cell_type": "markdown",
      "metadata": {
        "id": "-THTtO91wO1K",
        "colab_type": "text"
      },
      "source": [
        "We can fit the linear model, but the standard error will be incorrect because it assume sthat the varaince of the observations is constant"
      ]
    },
    {
      "cell_type": "code",
      "metadata": {
        "id": "cRzCunP0wO1K",
        "colab_type": "code",
        "colab": {},
        "outputId": "8e8ea8d1-d7cc-4414-b224-c65e8336a0b9"
      },
      "source": [
        "\n",
        "lm.fit <- lm(y ~ x)\n",
        "summary(lm.fit)"
      ],
      "execution_count": null,
      "outputs": [
        {
          "output_type": "display_data",
          "data": {
            "text/plain": [
              "\n",
              "Call:\n",
              "lm(formula = y ~ x)\n",
              "\n",
              "Residuals:\n",
              "     Min       1Q   Median       3Q      Max \n",
              "-22.5372  -1.0318  -0.1718   2.8359  10.3111 \n",
              "\n",
              "Coefficients:\n",
              "            Estimate Std. Error t value Pr(>|t|)  \n",
              "(Intercept)   1.3395     0.7375   1.816   0.0756 .\n",
              "x             0.2561     1.0406   0.246   0.8066  \n",
              "---\n",
              "Signif. codes:  0 ‘***’ 0.001 ‘**’ 0.01 ‘*’ 0.05 ‘.’ 0.1 ‘ ’ 1\n",
              "\n",
              "Residual standard error: 5.215 on 48 degrees of freedom\n",
              "Multiple R-squared:  0.00126,\tAdjusted R-squared:  -0.01955 \n",
              "F-statistic: 0.06057 on 1 and 48 DF,  p-value: 0.8066\n"
            ]
          },
          "metadata": {
            "tags": []
          }
        }
      ]
    },
    {
      "cell_type": "markdown",
      "metadata": {
        "id": "qtid16newO1O",
        "colab_type": "text"
      },
      "source": [
        "### Test with \"robust\" standard errors\n",
        "Using the coeftest() function, we can calculate a \"robust\" standard error. Note that it is larger then the one calucaltd from the (incorrect) linear model which assumes that the variance of each observation are equal."
      ]
    },
    {
      "cell_type": "code",
      "metadata": {
        "id": "UyahiBsJwO1O",
        "colab_type": "code",
        "colab": {},
        "outputId": "cd2a7404-485e-4276-a21c-536e2069bf4e"
      },
      "source": [
        "coeftest(lm.fit, vcov. = vcovHC)"
      ],
      "execution_count": null,
      "outputs": [
        {
          "output_type": "display_data",
          "data": {
            "text/plain": [
              "\n",
              "t test of coefficients:\n",
              "\n",
              "            Estimate Std. Error t value Pr(>|t|)  \n",
              "(Intercept)  1.33954    0.76165  1.7587   0.0850 .\n",
              "x            0.25609    1.27954  0.2001   0.8422  \n",
              "---\n",
              "Signif. codes:  0 ‘***’ 0.001 ‘**’ 0.01 ‘*’ 0.05 ‘.’ 0.1 ‘ ’ 1\n"
            ]
          },
          "metadata": {
            "tags": []
          }
        }
      ]
    },
    {
      "cell_type": "code",
      "metadata": {
        "id": "-NV-JXe-wO1S",
        "colab_type": "code",
        "colab": {}
      },
      "source": [
        ""
      ],
      "execution_count": null,
      "outputs": []
    }
  ]
}