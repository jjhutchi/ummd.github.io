{
  "nbformat": 4,
  "nbformat_minor": 0,
  "metadata": {
    "kernelspec": {
      "display_name": "R",
      "language": "R",
      "name": "ir"
    },
    "language_info": {
      "codemirror_mode": "r",
      "file_extension": ".r",
      "mimetype": "text/x-r-source",
      "name": "R",
      "pygments_lexer": "r",
      "version": "3.5.0"
    },
    "colab": {
      "name": "Lecture6a.ipynb",
      "provenance": []
    }
  },
  "cells": [
    {
      "cell_type": "markdown",
      "metadata": {
        "id": "dc3NMONXyebL",
        "colab_type": "text"
      },
      "source": [
        "# Logistic Regression"
      ]
    },
    {
      "cell_type": "code",
      "metadata": {
        "id": "omOiA-0pyebM",
        "colab_type": "code",
        "colab": {
          "base_uri": "https://localhost:8080/",
          "height": 136
        },
        "outputId": "3741a7a9-4536-45a3-f3ab-c5d88b4967e4"
      },
      "source": [
        "if (!require(ISLR)) install.packages(\"ISLR\")\n",
        "library(ISLR) #load ISLR package which contains datasets \"Default\"\n",
        "?Default"
      ],
      "execution_count": 1,
      "outputs": [
        {
          "output_type": "stream",
          "text": [
            "Loading required package: ISLR\n",
            "\n",
            "Warning message in library(package, lib.loc = lib.loc, character.only = TRUE, logical.return = TRUE, :\n",
            "“there is no package called ‘ISLR’”\n",
            "Installing package into ‘/usr/local/lib/R/site-library’\n",
            "(as ‘lib’ is unspecified)\n",
            "\n"
          ],
          "name": "stderr"
        }
      ]
    },
    {
      "cell_type": "code",
      "metadata": {
        "id": "Z_KtkkCmyebU",
        "colab_type": "code",
        "colab": {
          "base_uri": "https://localhost:8080/",
          "height": 136
        },
        "outputId": "6b654309-1007-4f12-8d26-3943ec1f8df2"
      },
      "source": [
        "summary(Default) #always look at your data first!"
      ],
      "execution_count": 2,
      "outputs": [
        {
          "output_type": "display_data",
          "data": {
            "text/plain": [
              " default    student       balance           income     \n",
              " No :9667   No :7056   Min.   :   0.0   Min.   :  772  \n",
              " Yes: 333   Yes:2944   1st Qu.: 481.7   1st Qu.:21340  \n",
              "                       Median : 823.6   Median :34553  \n",
              "                       Mean   : 835.4   Mean   :33517  \n",
              "                       3rd Qu.:1166.3   3rd Qu.:43808  \n",
              "                       Max.   :2654.3   Max.   :73554  "
            ]
          },
          "metadata": {
            "tags": []
          }
        }
      ]
    },
    {
      "cell_type": "markdown",
      "metadata": {
        "id": "ZRgiphZ8yeba",
        "colab_type": "text"
      },
      "source": [
        "What do you notice about default rates? Number of students?"
      ]
    },
    {
      "cell_type": "markdown",
      "metadata": {
        "id": "eok9FF06yebb",
        "colab_type": "text"
      },
      "source": [
        "## Logistic regression on Continuous (Numerical) Variable"
      ]
    },
    {
      "cell_type": "code",
      "metadata": {
        "id": "ROetdR-Eyebc",
        "colab_type": "code",
        "colab": {
          "base_uri": "https://localhost:8080/",
          "height": 391
        },
        "outputId": "69d3d55c-fe7a-4813-9e8d-dc4d87de104c"
      },
      "source": [
        "glm.fit <- glm(default~balance,family=\"binomial\",data=Default)\n",
        "summary(glm.fit)"
      ],
      "execution_count": 3,
      "outputs": [
        {
          "output_type": "display_data",
          "data": {
            "text/plain": [
              "\n",
              "Call:\n",
              "glm(formula = default ~ balance, family = \"binomial\", data = Default)\n",
              "\n",
              "Deviance Residuals: \n",
              "    Min       1Q   Median       3Q      Max  \n",
              "-2.2697  -0.1465  -0.0589  -0.0221   3.7589  \n",
              "\n",
              "Coefficients:\n",
              "              Estimate Std. Error z value Pr(>|z|)    \n",
              "(Intercept) -1.065e+01  3.612e-01  -29.49   <2e-16 ***\n",
              "balance      5.499e-03  2.204e-04   24.95   <2e-16 ***\n",
              "---\n",
              "Signif. codes:  0 ‘***’ 0.001 ‘**’ 0.01 ‘*’ 0.05 ‘.’ 0.1 ‘ ’ 1\n",
              "\n",
              "(Dispersion parameter for binomial family taken to be 1)\n",
              "\n",
              "    Null deviance: 2920.6  on 9999  degrees of freedom\n",
              "Residual deviance: 1596.5  on 9998  degrees of freedom\n",
              "AIC: 1600.5\n",
              "\n",
              "Number of Fisher Scoring iterations: 8\n"
            ]
          },
          "metadata": {
            "tags": []
          }
        }
      ]
    },
    {
      "cell_type": "markdown",
      "metadata": {
        "id": "LKgfSc4qyebh",
        "colab_type": "text"
      },
      "source": [
        "## The Deviances, Log-likelihoods, and Likelihood Ratio tests.\n",
        "The \"residual deviance\" is negative 2 times the maximized loglikelihood: $-2l(\\hat\\beta)$. This gives a measure of fit for the model where lower is better.\n",
        "\n",
        "The \"null deviance\" is negative 2 times the maximized loglikelihood for the model with only an intercept. \n",
        "\n",
        "Comparing these two numbers, via a *likelihood ratio test*, tells us whether the model gives a better fit.\n",
        "\n",
        "$LR$ = Null Deviance - Residual Deviance\n",
        "\n",
        "and is distributed chi-sqared with $r$ degrees of freedom\n",
        "\n",
        "$LR\\sim \\chi^2(r)$"
      ]
    },
    {
      "cell_type": "code",
      "metadata": {
        "id": "ag4hbdTayebh",
        "colab_type": "code",
        "colab": {},
        "outputId": "5282a303-4b33-458f-f82c-d03aefe675b3"
      },
      "source": [
        "names(summary(glm.fit))"
      ],
      "execution_count": null,
      "outputs": [
        {
          "output_type": "display_data",
          "data": {
            "text/html": [
              "<ol class=list-inline>\n",
              "\t<li>'call'</li>\n",
              "\t<li>'terms'</li>\n",
              "\t<li>'family'</li>\n",
              "\t<li>'deviance'</li>\n",
              "\t<li>'aic'</li>\n",
              "\t<li>'contrasts'</li>\n",
              "\t<li>'df.residual'</li>\n",
              "\t<li>'null.deviance'</li>\n",
              "\t<li>'df.null'</li>\n",
              "\t<li>'iter'</li>\n",
              "\t<li>'deviance.resid'</li>\n",
              "\t<li>'coefficients'</li>\n",
              "\t<li>'aliased'</li>\n",
              "\t<li>'dispersion'</li>\n",
              "\t<li>'df'</li>\n",
              "\t<li>'cov.unscaled'</li>\n",
              "\t<li>'cov.scaled'</li>\n",
              "</ol>\n"
            ],
            "text/latex": "\\begin{enumerate*}\n\\item 'call'\n\\item 'terms'\n\\item 'family'\n\\item 'deviance'\n\\item 'aic'\n\\item 'contrasts'\n\\item 'df.residual'\n\\item 'null.deviance'\n\\item 'df.null'\n\\item 'iter'\n\\item 'deviance.resid'\n\\item 'coefficients'\n\\item 'aliased'\n\\item 'dispersion'\n\\item 'df'\n\\item 'cov.unscaled'\n\\item 'cov.scaled'\n\\end{enumerate*}\n",
            "text/markdown": "1. 'call'\n2. 'terms'\n3. 'family'\n4. 'deviance'\n5. 'aic'\n6. 'contrasts'\n7. 'df.residual'\n8. 'null.deviance'\n9. 'df.null'\n10. 'iter'\n11. 'deviance.resid'\n12. 'coefficients'\n13. 'aliased'\n14. 'dispersion'\n15. 'df'\n16. 'cov.unscaled'\n17. 'cov.scaled'\n\n\n",
            "text/plain": [
              " [1] \"call\"           \"terms\"          \"family\"         \"deviance\"      \n",
              " [5] \"aic\"            \"contrasts\"      \"df.residual\"    \"null.deviance\" \n",
              " [9] \"df.null\"        \"iter\"           \"deviance.resid\" \"coefficients\"  \n",
              "[13] \"aliased\"        \"dispersion\"     \"df\"             \"cov.unscaled\"  \n",
              "[17] \"cov.scaled\"    "
            ]
          },
          "metadata": {
            "tags": []
          }
        }
      ]
    },
    {
      "cell_type": "code",
      "metadata": {
        "id": "5rbrWaJFyebk",
        "colab_type": "code",
        "colab": {},
        "outputId": "1a91d305-5461-47d3-a3e3-262cc74026bd"
      },
      "source": [
        "summary(glm.fit)$null - summary(glm.fit)$deviance"
      ],
      "execution_count": null,
      "outputs": [
        {
          "output_type": "display_data",
          "data": {
            "text/html": [
              "1324.19802785589"
            ],
            "text/latex": "1324.19802785589",
            "text/markdown": "1324.19802785589",
            "text/plain": [
              "[1] 1324.198"
            ]
          },
          "metadata": {
            "tags": []
          }
        }
      ]
    },
    {
      "cell_type": "markdown",
      "metadata": {
        "id": "YRD-0tgeyebn",
        "colab_type": "text"
      },
      "source": [
        "To run a likelihood ratio test, you can use lrtest()"
      ]
    },
    {
      "cell_type": "code",
      "metadata": {
        "id": "aL_Ih67Eyebn",
        "colab_type": "code",
        "colab": {},
        "outputId": "bc95e4a5-da17-4acc-aaf6-b68ec207621e"
      },
      "source": [
        "library(lmtest)\n",
        "lrtest(glm.fit)"
      ],
      "execution_count": null,
      "outputs": [
        {
          "output_type": "stream",
          "text": [
            "Loading required package: zoo\n",
            "\n",
            "Attaching package: ‘zoo’\n",
            "\n",
            "The following objects are masked from ‘package:base’:\n",
            "\n",
            "    as.Date, as.Date.numeric\n",
            "\n"
          ],
          "name": "stderr"
        },
        {
          "output_type": "display_data",
          "data": {
            "text/html": [
              "<table>\n",
              "<thead><tr><th scope=col>#Df</th><th scope=col>LogLik</th><th scope=col>Df</th><th scope=col>Chisq</th><th scope=col>Pr(&gt;Chisq)</th></tr></thead>\n",
              "<tbody>\n",
              "\t<tr><td>2            </td><td> -798.2258   </td><td>NA           </td><td>      NA     </td><td>           NA</td></tr>\n",
              "\t<tr><td>1            </td><td>-1460.3249   </td><td>-1           </td><td>1324.198     </td><td>6.232869e-290</td></tr>\n",
              "</tbody>\n",
              "</table>\n"
            ],
            "text/latex": "\\begin{tabular}{r|lllll}\n \\#Df & LogLik & Df & Chisq & Pr(>Chisq)\\\\\n\\hline\n\t 2             &  -798.2258    & NA            &       NA      &            NA\\\\\n\t 1             & -1460.3249    & -1            & 1324.198      & 6.232869e-290\\\\\n\\end{tabular}\n",
            "text/markdown": "\n#Df | LogLik | Df | Chisq | Pr(>Chisq) | \n|---|---|\n| 2             |  -798.2258    | NA            |       NA      |            NA | \n| 1             | -1460.3249    | -1            | 1324.198      | 6.232869e-290 | \n\n\n",
            "text/plain": [
              "  #Df LogLik     Df Chisq    Pr(>Chisq)   \n",
              "1 2    -798.2258 NA       NA            NA\n",
              "2 1   -1460.3249 -1 1324.198 6.232869e-290"
            ]
          },
          "metadata": {
            "tags": []
          }
        }
      ]
    },
    {
      "cell_type": "markdown",
      "metadata": {
        "id": "xvnGa5WWyebq",
        "colab_type": "text"
      },
      "source": [
        "The first line reports the \"degreees of freedom\" of the model (how many parameters), and its log-likelihood.\n",
        "\n",
        "The second line reports the \"degreees of freedom\" of the null model, its log-likelihood, the LR test statistic, and the p-value for this test.\n",
        "\n",
        "Note the LR test statistic is what we just calculated above.\n",
        "\n",
        "Since the p-value is so low, we can reject the null model (i.e. balance has explanatory power)"
      ]
    },
    {
      "cell_type": "markdown",
      "metadata": {
        "id": "sZGGlk8Fyebr",
        "colab_type": "text"
      },
      "source": [
        "### Predicted probability"
      ]
    },
    {
      "cell_type": "code",
      "metadata": {
        "id": "e100LFOpyebr",
        "colab_type": "code",
        "colab": {},
        "outputId": "f9821467-cc09-4189-fc0b-f14949fce4fd"
      },
      "source": [
        "newdata <- data.frame(balance=1000)\n",
        "predict(glm.fit,type=\"response\",newdata)"
      ],
      "execution_count": null,
      "outputs": [
        {
          "output_type": "display_data",
          "data": {
            "text/html": [
              "<strong>1:</strong> 0.00575214508582019"
            ],
            "text/latex": "\\textbf{1:} 0.00575214508582019",
            "text/markdown": "**1:** 0.00575214508582019",
            "text/plain": [
              "          1 \n",
              "0.005752145 "
            ]
          },
          "metadata": {
            "tags": []
          }
        }
      ]
    },
    {
      "cell_type": "markdown",
      "metadata": {
        "id": "WMFKcXRfyebt",
        "colab_type": "text"
      },
      "source": [
        "## Logistic Regression on Categorical (Dummy) Variable"
      ]
    },
    {
      "cell_type": "code",
      "metadata": {
        "id": "tFNZkXyIyebt",
        "colab_type": "code",
        "colab": {},
        "outputId": "c6bde1f1-d8db-453d-bebd-62016ec44b7d"
      },
      "source": [
        "glm.fit <- glm(default~student,family=\"binomial\",data=Default)\n",
        "summary(glm.fit)"
      ],
      "execution_count": null,
      "outputs": [
        {
          "output_type": "display_data",
          "data": {
            "text/plain": [
              "\n",
              "Call:\n",
              "glm(formula = default ~ student, family = \"binomial\", data = Default)\n",
              "\n",
              "Deviance Residuals: \n",
              "    Min       1Q   Median       3Q      Max  \n",
              "-0.2970  -0.2970  -0.2434  -0.2434   2.6585  \n",
              "\n",
              "Coefficients:\n",
              "            Estimate Std. Error z value Pr(>|z|)    \n",
              "(Intercept) -3.50413    0.07071  -49.55  < 2e-16 ***\n",
              "studentYes   0.40489    0.11502    3.52 0.000431 ***\n",
              "---\n",
              "Signif. codes:  0 ‘***’ 0.001 ‘**’ 0.01 ‘*’ 0.05 ‘.’ 0.1 ‘ ’ 1\n",
              "\n",
              "(Dispersion parameter for binomial family taken to be 1)\n",
              "\n",
              "    Null deviance: 2920.6  on 9999  degrees of freedom\n",
              "Residual deviance: 2908.7  on 9998  degrees of freedom\n",
              "AIC: 2912.7\n",
              "\n",
              "Number of Fisher Scoring iterations: 6\n"
            ]
          },
          "metadata": {
            "tags": []
          }
        }
      ]
    },
    {
      "cell_type": "code",
      "metadata": {
        "id": "U7gyzPByyebw",
        "colab_type": "code",
        "colab": {},
        "outputId": "a1af2e1d-2a68-4f58-8bf3-48d358b5347f"
      },
      "source": [
        "newdata <- data.frame(student=\"Yes\")\n",
        "predict(glm.fit,type=\"response\",newdata) #return the predited probability\n",
        "predict(glm.fit,newdata) #return the predicted log-odds ratio"
      ],
      "execution_count": null,
      "outputs": [
        {
          "output_type": "display_data",
          "data": {
            "text/html": [
              "<strong>1:</strong> 0.0431385869565212"
            ],
            "text/latex": "\\textbf{1:} 0.0431385869565212",
            "text/markdown": "**1:** 0.0431385869565212",
            "text/plain": [
              "         1 \n",
              "0.04313859 "
            ]
          },
          "metadata": {
            "tags": []
          }
        },
        {
          "output_type": "display_data",
          "data": {
            "text/html": [
              "<strong>1:</strong> -3.09924068141779"
            ],
            "text/latex": "\\textbf{1:} -3.09924068141779",
            "text/markdown": "**1:** -3.09924068141779",
            "text/plain": [
              "        1 \n",
              "-3.099241 "
            ]
          },
          "metadata": {
            "tags": []
          }
        }
      ]
    },
    {
      "cell_type": "code",
      "metadata": {
        "id": "2aweC8Q6yeby",
        "colab_type": "code",
        "colab": {},
        "outputId": "5adce0b2-1c28-4b70-9f04-74f7e8d5f633"
      },
      "source": [
        "newdata <- data.frame(student=\"No\")\n",
        "predict(glm.fit,type=\"response\",newdata)"
      ],
      "execution_count": null,
      "outputs": [
        {
          "output_type": "display_data",
          "data": {
            "text/html": [
              "<strong>1:</strong> 0.0291950113382478"
            ],
            "text/latex": "\\textbf{1:} 0.0291950113382478",
            "text/markdown": "**1:** 0.0291950113382478",
            "text/plain": [
              "         1 \n",
              "0.02919501 "
            ]
          },
          "metadata": {
            "tags": []
          }
        }
      ]
    },
    {
      "cell_type": "markdown",
      "metadata": {
        "id": "1YX7TU63yeb0",
        "colab_type": "text"
      },
      "source": [
        "## Multiple Logistic Regression"
      ]
    },
    {
      "cell_type": "code",
      "metadata": {
        "id": "7x3IA9djyeb1",
        "colab_type": "code",
        "colab": {},
        "outputId": "fbc01840-b9a3-47d2-f939-2abe24be907e"
      },
      "source": [
        "glm.fit <- glm(default~balance+income+student,family=\"binomial\",data=Default)\n",
        "summary(glm.fit)"
      ],
      "execution_count": null,
      "outputs": [
        {
          "output_type": "display_data",
          "data": {
            "text/plain": [
              "\n",
              "Call:\n",
              "glm(formula = default ~ balance + income + student, family = \"binomial\", \n",
              "    data = Default)\n",
              "\n",
              "Deviance Residuals: \n",
              "    Min       1Q   Median       3Q      Max  \n",
              "-2.4691  -0.1418  -0.0557  -0.0203   3.7383  \n",
              "\n",
              "Coefficients:\n",
              "              Estimate Std. Error z value Pr(>|z|)    \n",
              "(Intercept) -1.087e+01  4.923e-01 -22.080  < 2e-16 ***\n",
              "balance      5.737e-03  2.319e-04  24.738  < 2e-16 ***\n",
              "income       3.033e-06  8.203e-06   0.370  0.71152    \n",
              "studentYes  -6.468e-01  2.363e-01  -2.738  0.00619 ** \n",
              "---\n",
              "Signif. codes:  0 ‘***’ 0.001 ‘**’ 0.01 ‘*’ 0.05 ‘.’ 0.1 ‘ ’ 1\n",
              "\n",
              "(Dispersion parameter for binomial family taken to be 1)\n",
              "\n",
              "    Null deviance: 2920.6  on 9999  degrees of freedom\n",
              "Residual deviance: 1571.5  on 9996  degrees of freedom\n",
              "AIC: 1579.5\n",
              "\n",
              "Number of Fisher Scoring iterations: 8\n"
            ]
          },
          "metadata": {
            "tags": []
          }
        }
      ]
    }
  ]
}