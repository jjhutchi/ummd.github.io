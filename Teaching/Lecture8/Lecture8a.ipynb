{
  "nbformat": 4,
  "nbformat_minor": 0,
  "metadata": {
    "kernelspec": {
      "display_name": "R",
      "language": "R",
      "name": "ir"
    },
    "language_info": {
      "codemirror_mode": "r",
      "file_extension": ".r",
      "mimetype": "text/x-r-source",
      "name": "R",
      "pygments_lexer": "r",
      "version": "3.5.0"
    },
    "colab": {
      "name": "Lecture8a.ipynb",
      "provenance": []
    }
  },
  "cells": [
    {
      "cell_type": "markdown",
      "metadata": {
        "id": "mX3jXRJfaY2Z",
        "colab_type": "text"
      },
      "source": [
        "# Lecture 8: Validation Set and Cross-Validation\n",
        "\n",
        "We will use the \"Auto\" detaset\n",
        "\n",
        "## Validation Set"
      ]
    },
    {
      "cell_type": "code",
      "metadata": {
        "id": "r-OqUMCwaY2b",
        "colab_type": "code",
        "colab": {
          "base_uri": "https://localhost:8080/",
          "height": 136
        },
        "outputId": "6572ebc4-a496-4a17-b0a0-694a03c4c4f3"
      },
      "source": [
        "if (!require(ISLR)) install.packages(\"ISLR\")\n",
        "library(ISLR)\n",
        "attach(Auto)"
      ],
      "execution_count": 1,
      "outputs": [
        {
          "output_type": "stream",
          "text": [
            "Loading required package: ISLR\n",
            "\n",
            "Warning message in library(package, lib.loc = lib.loc, character.only = TRUE, logical.return = TRUE, :\n",
            "“there is no package called ‘ISLR’”\n",
            "Installing package into ‘/usr/local/lib/R/site-library’\n",
            "(as ‘lib’ is unspecified)\n",
            "\n"
          ],
          "name": "stderr"
        }
      ]
    },
    {
      "cell_type": "code",
      "metadata": {
        "id": "SVLf0sdcaY2i",
        "colab_type": "code",
        "colab": {},
        "outputId": "fc33d8f7-ad48-4472-d3ca-23bfcf998e7b"
      },
      "source": [
        "lm.fit=lm(mpg~horsepower, data=Auto)\n",
        "summary(lm.fit)"
      ],
      "execution_count": null,
      "outputs": [
        {
          "output_type": "display_data",
          "data": {
            "text/plain": [
              "\n",
              "Call:\n",
              "lm(formula = mpg ~ horsepower, data = Auto)\n",
              "\n",
              "Residuals:\n",
              "     Min       1Q   Median       3Q      Max \n",
              "-13.5710  -3.2592  -0.3435   2.7630  16.9240 \n",
              "\n",
              "Coefficients:\n",
              "             Estimate Std. Error t value Pr(>|t|)    \n",
              "(Intercept) 39.935861   0.717499   55.66   <2e-16 ***\n",
              "horsepower  -0.157845   0.006446  -24.49   <2e-16 ***\n",
              "---\n",
              "Signif. codes:  0 ‘***’ 0.001 ‘**’ 0.01 ‘*’ 0.05 ‘.’ 0.1 ‘ ’ 1\n",
              "\n",
              "Residual standard error: 4.906 on 390 degrees of freedom\n",
              "Multiple R-squared:  0.6059,\tAdjusted R-squared:  0.6049 \n",
              "F-statistic: 599.7 on 1 and 390 DF,  p-value: < 2.2e-16\n"
            ]
          },
          "metadata": {
            "tags": []
          }
        }
      ]
    },
    {
      "cell_type": "markdown",
      "metadata": {
        "id": "pPFQJKJjaY2n",
        "colab_type": "text"
      },
      "source": [
        "### Split the sample and estimate on training data"
      ]
    },
    {
      "cell_type": "code",
      "metadata": {
        "id": "SygR0TDGaY2o",
        "colab_type": "code",
        "colab": {},
        "outputId": "d5387d8d-40bc-403a-966b-c0b40a994f36"
      },
      "source": [
        "set.seed(1)\n",
        "train=sample(392,196)\n",
        "\n",
        "lm.fit=lm(mpg~horsepower, data=Auto,subset=train) #estimate on training dataset only\n",
        "summary(lm.fit)"
      ],
      "execution_count": null,
      "outputs": [
        {
          "output_type": "display_data",
          "data": {
            "text/plain": [
              "\n",
              "Call:\n",
              "lm(formula = mpg ~ horsepower, data = Auto, subset = train)\n",
              "\n",
              "Residuals:\n",
              "    Min      1Q  Median      3Q     Max \n",
              "-13.698  -3.085  -0.216   2.680  16.770 \n",
              "\n",
              "Coefficients:\n",
              "             Estimate Std. Error t value Pr(>|t|)    \n",
              "(Intercept) 40.340377   1.002269   40.25   <2e-16 ***\n",
              "horsepower  -0.161701   0.008809  -18.36   <2e-16 ***\n",
              "---\n",
              "Signif. codes:  0 ‘***’ 0.001 ‘**’ 0.01 ‘*’ 0.05 ‘.’ 0.1 ‘ ’ 1\n",
              "\n",
              "Residual standard error: 4.692 on 194 degrees of freedom\n",
              "Multiple R-squared:  0.6346,\tAdjusted R-squared:  0.6327 \n",
              "F-statistic: 336.9 on 1 and 194 DF,  p-value: < 2.2e-16\n"
            ]
          },
          "metadata": {
            "tags": []
          }
        }
      ]
    },
    {
      "cell_type": "markdown",
      "metadata": {
        "id": "JCSTj-hBaY2s",
        "colab_type": "text"
      },
      "source": [
        "### Caluclate $MSE_{test}$"
      ]
    },
    {
      "cell_type": "code",
      "metadata": {
        "id": "dAF84sggaY2t",
        "colab_type": "code",
        "colab": {}
      },
      "source": [
        "mpg.pred <-predict(lm.fit,Auto)\n",
        "test.err <-(mpg-mpg.pred)[-train]"
      ],
      "execution_count": null,
      "outputs": []
    },
    {
      "cell_type": "code",
      "metadata": {
        "id": "Nnv9HN3baY2w",
        "colab_type": "code",
        "colab": {},
        "outputId": "1fc2e235-2048-4638-845e-87589a54e0f7"
      },
      "source": [
        "mean(test.err^2) #MSE_test"
      ],
      "execution_count": null,
      "outputs": [
        {
          "output_type": "display_data",
          "data": {
            "text/html": [
              "26.1414211520072"
            ],
            "text/latex": "26.1414211520072",
            "text/markdown": "26.1414211520072",
            "text/plain": [
              "[1] 26.14142"
            ]
          },
          "metadata": {
            "tags": []
          }
        }
      ]
    },
    {
      "cell_type": "markdown",
      "metadata": {
        "id": "sTjNfjbVaY2z",
        "colab_type": "text"
      },
      "source": [
        "You can also do this for the models with high-order polynomials"
      ]
    },
    {
      "cell_type": "code",
      "metadata": {
        "id": "FKnPGSbraY20",
        "colab_type": "code",
        "colab": {},
        "outputId": "45ac4137-9865-4f8f-83ce-5e031a3d9dfa"
      },
      "source": [
        "lm.fit2=lm(mpg~poly(horsepower,2), data=Auto,subset=train) #estimate on training dataset only\n",
        "mean((mpg-predict(lm.fit2,Auto))[-train]^2)\n",
        "lm.fit3=lm(mpg~poly(horsepower,3), data=Auto,subset=train) #estimate on training dataset only\n",
        "mean((mpg-predict(lm.fit3,Auto))[-train]^2)"
      ],
      "execution_count": null,
      "outputs": [
        {
          "output_type": "display_data",
          "data": {
            "text/html": [
              "19.8225850408262"
            ],
            "text/latex": "19.8225850408262",
            "text/markdown": "19.8225850408262",
            "text/plain": [
              "[1] 19.82259"
            ]
          },
          "metadata": {
            "tags": []
          }
        },
        {
          "output_type": "display_data",
          "data": {
            "text/html": [
              "19.7825166856023"
            ],
            "text/latex": "19.7825166856023",
            "text/markdown": "19.7825166856023",
            "text/plain": [
              "[1] 19.78252"
            ]
          },
          "metadata": {
            "tags": []
          }
        }
      ]
    },
    {
      "cell_type": "markdown",
      "metadata": {
        "id": "_b9uzrz5aY23",
        "colab_type": "text"
      },
      "source": [
        "If we split the sample a different way, we will get different estimates of $MSE_{test}$"
      ]
    },
    {
      "cell_type": "code",
      "metadata": {
        "id": "atwkvz66aY24",
        "colab_type": "code",
        "colab": {},
        "outputId": "6ee667d9-20f1-4f3d-b4f9-cfb1769164c0"
      },
      "source": [
        "train=sample(392,196)\n",
        "\n",
        "lm.fit=lm(mpg~horsepower, data=Auto,subset=train) #estimate on training dataset only\n",
        "mean((mpg-predict(lm.fit,Auto))[-train]^2)"
      ],
      "execution_count": null,
      "outputs": [
        {
          "output_type": "display_data",
          "data": {
            "text/html": [
              "21.7621060371241"
            ],
            "text/latex": "21.7621060371241",
            "text/markdown": "21.7621060371241",
            "text/plain": [
              "[1] 21.76211"
            ]
          },
          "metadata": {
            "tags": []
          }
        }
      ]
    },
    {
      "cell_type": "markdown",
      "metadata": {
        "id": "alU2Q9aKaY27",
        "colab_type": "text"
      },
      "source": [
        "But the story is consistent, the quadratic model performs better than the linear model, and the cubic offers little improvement"
      ]
    },
    {
      "cell_type": "markdown",
      "metadata": {
        "id": "9_07S9Y3aY27",
        "colab_type": "text"
      },
      "source": [
        "## Leave-One-Out Cross Validation"
      ]
    },
    {
      "cell_type": "markdown",
      "metadata": {
        "id": "8qFWRZkUaY28",
        "colab_type": "text"
      },
      "source": [
        "Cross validation can be done using the glm() and cv.glm() functions.\n",
        "\n",
        "These functions can be used for both linear regression and logistic regression."
      ]
    },
    {
      "cell_type": "code",
      "metadata": {
        "id": "jsd3JCuOaY28",
        "colab_type": "code",
        "colab": {},
        "outputId": "2ede65ae-fa8e-46c2-9dfb-53d30365376e"
      },
      "source": [
        "glm.fit=glm(mpg~horsepower,data=Auto) #the \"default\" use of glm(), when the \"family\" argument is not passed to it, is just a linear regression\n",
        "coef(glm.fit)"
      ],
      "execution_count": null,
      "outputs": [
        {
          "output_type": "display_data",
          "data": {
            "text/html": [
              "<dl class=dl-horizontal>\n",
              "\t<dt>(Intercept)</dt>\n",
              "\t\t<dd>39.9358610211705</dd>\n",
              "\t<dt>horsepower</dt>\n",
              "\t\t<dd>-0.157844733353654</dd>\n",
              "</dl>\n"
            ],
            "text/latex": "\\begin{description*}\n\\item[(Intercept)] 39.9358610211705\n\\item[horsepower] -0.157844733353654\n\\end{description*}\n",
            "text/markdown": "(Intercept)\n:   39.9358610211705horsepower\n:   -0.157844733353654\n\n",
            "text/plain": [
              "(Intercept)  horsepower \n",
              " 39.9358610  -0.1578447 "
            ]
          },
          "metadata": {
            "tags": []
          }
        }
      ]
    },
    {
      "cell_type": "code",
      "metadata": {
        "id": "1XRDdQbvaY2_",
        "colab_type": "code",
        "colab": {}
      },
      "source": [
        "library(boot) #this library has the cv.glm() function"
      ],
      "execution_count": 2,
      "outputs": []
    },
    {
      "cell_type": "markdown",
      "metadata": {
        "id": "FTGzjqZdaY3B",
        "colab_type": "text"
      },
      "source": [
        "Compute $CV_{(n)}=\\frac{1}{n}\\sum_{i=1}^n\\text{MSE}_i$"
      ]
    },
    {
      "cell_type": "code",
      "metadata": {
        "id": "0onMOWCsaY3B",
        "colab_type": "code",
        "colab": {},
        "outputId": "adad0746-d1ab-4e38-f73b-38f23433d2aa"
      },
      "source": [
        "cv.err=cv.glm(Auto,glm.fit)\n",
        "cv.err$delta # computes two estimates of LOOCV"
      ],
      "execution_count": null,
      "outputs": [
        {
          "output_type": "display_data",
          "data": {
            "text/html": [
              "<ol class=list-inline>\n",
              "\t<li>24.2315135179292</li>\n",
              "\t<li>24.2311440937562</li>\n",
              "</ol>\n"
            ],
            "text/latex": "\\begin{enumerate*}\n\\item 24.2315135179292\n\\item 24.2311440937562\n\\end{enumerate*}\n",
            "text/markdown": "1. 24.2315135179292\n2. 24.2311440937562\n\n\n",
            "text/plain": [
              "[1] 24.23151 24.23114"
            ]
          },
          "metadata": {
            "tags": []
          }
        }
      ]
    },
    {
      "cell_type": "markdown",
      "metadata": {
        "id": "e4wcadzPaY3E",
        "colab_type": "text"
      },
      "source": [
        ""
      ]
    },
    {
      "cell_type": "code",
      "metadata": {
        "id": "BjaDbpxcaY3E",
        "colab_type": "code",
        "colab": {},
        "outputId": "c68e7e61-325c-4b52-ab4d-47d408e9eded"
      },
      "source": [
        "cv.error=rep(0,5) #intialize vector to store errors\n",
        "for (i in 1:5){\n",
        "    glm.fit=glm(mpg~poly(horsepower,i),data=Auto) #run regression on predictors with plynomial up to degree i\n",
        "    cv.error[i]=cv.glm(Auto,glm.fit)$delta[1] #store the LOOCV\n",
        "              }\n",
        "cv.error"
      ],
      "execution_count": null,
      "outputs": [
        {
          "output_type": "display_data",
          "data": {
            "text/html": [
              "<ol class=list-inline>\n",
              "\t<li>24.2315135179293</li>\n",
              "\t<li>19.2482131244897</li>\n",
              "\t<li>19.3349840640291</li>\n",
              "\t<li>19.4244303104302</li>\n",
              "\t<li>19.0332138547041</li>\n",
              "</ol>\n"
            ],
            "text/latex": "\\begin{enumerate*}\n\\item 24.2315135179293\n\\item 19.2482131244897\n\\item 19.3349840640291\n\\item 19.4244303104302\n\\item 19.0332138547041\n\\end{enumerate*}\n",
            "text/markdown": "1. 24.2315135179293\n2. 19.2482131244897\n3. 19.3349840640291\n4. 19.4244303104302\n5. 19.0332138547041\n\n\n",
            "text/plain": [
              "[1] 24.23151 19.24821 19.33498 19.42443 19.03321"
            ]
          },
          "metadata": {
            "tags": []
          }
        }
      ]
    },
    {
      "cell_type": "markdown",
      "metadata": {
        "id": "cA9ZeMiyaY3H",
        "colab_type": "text"
      },
      "source": [
        "again, a sharp drop moving from linear to quadratic, but no improvemeny moving to higher degrees"
      ]
    },
    {
      "cell_type": "markdown",
      "metadata": {
        "id": "gBmxal7OaY3H",
        "colab_type": "text"
      },
      "source": [
        "## K-Fold Cross Validation"
      ]
    },
    {
      "cell_type": "code",
      "metadata": {
        "id": "vlfAvQhJaY3I",
        "colab_type": "code",
        "colab": {},
        "outputId": "5e680a33-34fe-4b24-e717-067ed4e9197c"
      },
      "source": [
        "set.seed(17)\n",
        "cv.error.10=rep(0,10)\n",
        "for (i in 1:10){\n",
        "    glm.fit=glm(mpg~poly(horsepower,i),data=Auto) #run regression on predictors with plynomial up to degree i\n",
        "    cv.error.10[i]=cv.glm(Auto,glm.fit,K=10)$delta[1] #set K=10. Store the 10-fold cross validation\n",
        "              }\n",
        "cv.error.10"
      ],
      "execution_count": null,
      "outputs": [
        {
          "output_type": "display_data",
          "data": {
            "text/html": [
              "<ol class=list-inline>\n",
              "\t<li>24.2051967567753</li>\n",
              "\t<li>19.1892390663471</li>\n",
              "\t<li>19.3066158967501</li>\n",
              "\t<li>19.3379909004929</li>\n",
              "\t<li>18.8791148363354</li>\n",
              "\t<li>19.0210341885227</li>\n",
              "\t<li>18.8960903802809</li>\n",
              "\t<li>19.7120146188181</li>\n",
              "\t<li>18.9514005667305</li>\n",
              "\t<li>19.5019592285534</li>\n",
              "</ol>\n"
            ],
            "text/latex": "\\begin{enumerate*}\n\\item 24.2051967567753\n\\item 19.1892390663471\n\\item 19.3066158967501\n\\item 19.3379909004929\n\\item 18.8791148363354\n\\item 19.0210341885227\n\\item 18.8960903802809\n\\item 19.7120146188181\n\\item 18.9514005667305\n\\item 19.5019592285534\n\\end{enumerate*}\n",
            "text/markdown": "1. 24.2051967567753\n2. 19.1892390663471\n3. 19.3066158967501\n4. 19.3379909004929\n5. 18.8791148363354\n6. 19.0210341885227\n7. 18.8960903802809\n8. 19.7120146188181\n9. 18.9514005667305\n10. 19.5019592285534\n\n\n",
            "text/plain": [
              " [1] 24.20520 19.18924 19.30662 19.33799 18.87911 19.02103 18.89609 19.71201\n",
              " [9] 18.95140 19.50196"
            ]
          },
          "metadata": {
            "tags": []
          }
        }
      ]
    }
  ]
}