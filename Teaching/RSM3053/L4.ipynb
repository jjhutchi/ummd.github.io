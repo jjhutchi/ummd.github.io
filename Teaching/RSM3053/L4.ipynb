{
  "nbformat": 4,
  "nbformat_minor": 0,
  "metadata": {
    "colab": {
      "provenance": [],
      "authorship_tag": "ABX9TyMB9hSSabVuWc9jFlO58y1x",
      "include_colab_link": true
    },
    "kernelspec": {
      "name": "ir",
      "display_name": "R"
    },
    "language_info": {
      "name": "R"
    }
  },
  "cells": [
    {
      "cell_type": "markdown",
      "metadata": {
        "id": "view-in-github",
        "colab_type": "text"
      },
      "source": [
        "<a href=\"https://colab.research.google.com/github/ummd/ummd.github.io/blob/master/Teaching/RSM3053/L4.ipynb\" target=\"_parent\"><img src=\"https://colab.research.google.com/assets/colab-badge.svg\" alt=\"Open In Colab\"/></a>"
      ]
    },
    {
      "cell_type": "markdown",
      "source": [
        "# Estimate a Logit by Maximum Likelihood\n",
        "\n",
        "Start by defining the Logit function\n",
        "$$p(x) = \\frac{e^{\\beta_0 + \\beta_1 x}}{1+e^{\\beta_0 + \\beta_1 x}} = \\frac{1}{1+e^{-(\\beta_0 + \\beta_1 x)}}$$\n"
      ],
      "metadata": {
        "id": "HdDW1ZBy5zis"
      }
    },
    {
      "cell_type": "code",
      "execution_count": null,
      "metadata": {
        "id": "JD9jvgNd5a8i"
      },
      "outputs": [],
      "source": [
        "logit <- function(par,x){\n",
        "  p <- 1/(1+exp(-par[1]-par[2]*x))\n",
        "}"
      ]
    },
    {
      "cell_type": "code",
      "source": [
        "#simulate data\n",
        "n <-200\n",
        "x <- runif(n,-2,2)\n",
        "par <- c(0,1)\n",
        "p <- logit(par,x)\n",
        "y <- rbinom(n,1,p)\n",
        "\n",
        "data <- data.frame(y,x)\n",
        "\n"
      ],
      "metadata": {
        "id": "NwZU-O515rBH"
      },
      "execution_count": null,
      "outputs": []
    },
    {
      "cell_type": "code",
      "source": [
        "#define ll\n",
        "nll_logit <- function(par,data){\n",
        "  y <- data$y\n",
        "  x <- data$x\n",
        "  p <- logit(par,x)\n",
        "  nLL <- -sum((y*log(p) + (1-y)*log(1-p)))\n",
        "  return(nLL)\n",
        "}\n"
      ],
      "metadata": {
        "id": "5k27jMYz5r2S"
      },
      "execution_count": null,
      "outputs": []
    },
    {
      "cell_type": "code",
      "source": [
        "#what is LL at initial point?\n",
        "par0 <- c(0,0)\n",
        "-nll_logit(par0,data)\n",
        "\n",
        "#what is LL at true value?\n",
        "-nll_logit(par,data)"
      ],
      "metadata": {
        "id": "q_9sKcqy5rod",
        "outputId": "269cc905-b7b9-483a-8ff0-714c470ca87c",
        "colab": {
          "base_uri": "https://localhost:8080/",
          "height": 72
        }
      },
      "execution_count": null,
      "outputs": [
        {
          "output_type": "display_data",
          "data": {
            "text/html": [
              "-138.629436111989"
            ],
            "text/markdown": "-138.629436111989",
            "text/latex": "-138.629436111989",
            "text/plain": [
              "[1] -138.6294"
            ]
          },
          "metadata": {}
        },
        {
          "output_type": "display_data",
          "data": {
            "text/html": [
              "-117.8381939755"
            ],
            "text/markdown": "-117.8381939755",
            "text/latex": "-117.8381939755",
            "text/plain": [
              "[1] -117.8382"
            ]
          },
          "metadata": {}
        }
      ]
    },
    {
      "cell_type": "code",
      "source": [
        "#what are the parameter values that maximize LL? (i.e. minimize nLL)\n",
        "out <- optim(par0,nll_logit,method=\"BFGS\",control=list(maxit=2000,reltol=1e-4), data=data)\n",
        "out"
      ],
      "metadata": {
        "id": "ZUa0-Mre7lJY",
        "outputId": "2d505c28-bf0b-463e-8fad-49cba704ab67",
        "colab": {
          "base_uri": "https://localhost:8080/",
          "height": 237
        }
      },
      "execution_count": null,
      "outputs": [
        {
          "output_type": "display_data",
          "data": {
            "text/html": [
              "<dl>\n",
              "\t<dt>$par</dt>\n",
              "\t\t<dd><style>\n",
              ".list-inline {list-style: none; margin:0; padding: 0}\n",
              ".list-inline>li {display: inline-block}\n",
              ".list-inline>li:not(:last-child)::after {content: \"\\00b7\"; padding: 0 .5ex}\n",
              "</style>\n",
              "<ol class=list-inline><li>-0.0944568567844768</li><li>0.890861594792496</li></ol>\n",
              "</dd>\n",
              "\t<dt>$value</dt>\n",
              "\t\t<dd>117.476614586239</dd>\n",
              "\t<dt>$counts</dt>\n",
              "\t\t<dd><style>\n",
              ".dl-inline {width: auto; margin:0; padding: 0}\n",
              ".dl-inline>dt, .dl-inline>dd {float: none; width: auto; display: inline-block}\n",
              ".dl-inline>dt::after {content: \":\\0020\"; padding-right: .5ex}\n",
              ".dl-inline>dt:not(:first-of-type) {padding-left: .5ex}\n",
              "</style><dl class=dl-inline><dt>function</dt><dd>13</dd><dt>gradient</dt><dd>6</dd></dl>\n",
              "</dd>\n",
              "\t<dt>$convergence</dt>\n",
              "\t\t<dd>0</dd>\n",
              "\t<dt>$message</dt>\n",
              "\t\t<dd>NULL</dd>\n",
              "</dl>\n"
            ],
            "text/markdown": "$par\n:   1. -0.0944568567844768\n2. 0.890861594792496\n\n\n\n$value\n:   117.476614586239\n$counts\n:   function\n:   13gradient\n:   6\n\n\n$convergence\n:   0\n$message\n:   NULL\n\n\n",
            "text/latex": "\\begin{description}\n\\item[\\$par] \\begin{enumerate*}\n\\item -0.0944568567844768\n\\item 0.890861594792496\n\\end{enumerate*}\n\n\\item[\\$value] 117.476614586239\n\\item[\\$counts] \\begin{description*}\n\\item[function] 13\n\\item[gradient] 6\n\\end{description*}\n\n\\item[\\$convergence] 0\n\\item[\\$message] NULL\n\\end{description}\n",
            "text/plain": [
              "$par\n",
              "[1] -0.09445686  0.89086159\n",
              "\n",
              "$value\n",
              "[1] 117.4766\n",
              "\n",
              "$counts\n",
              "function gradient \n",
              "      13        6 \n",
              "\n",
              "$convergence\n",
              "[1] 0\n",
              "\n",
              "$message\n",
              "NULL\n"
            ]
          },
          "metadata": {}
        }
      ]
    }
  ]
}