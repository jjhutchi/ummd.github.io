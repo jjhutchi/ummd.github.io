{
  "nbformat": 4,
  "nbformat_minor": 0,
  "metadata": {
    "colab": {
      "provenance": [],
      "authorship_tag": "ABX9TyN8LTKDP5yIlATGkWf099qm",
      "include_colab_link": true
    },
    "kernelspec": {
      "name": "python3",
      "display_name": "Python 3"
    },
    "language_info": {
      "name": "python"
    }
  },
  "cells": [
    {
      "cell_type": "markdown",
      "metadata": {
        "id": "view-in-github",
        "colab_type": "text"
      },
      "source": [
        "<a href=\"https://colab.research.google.com/github/ummd/ummd.github.io/blob/master/Teaching/RSM3053/L4.ipynb\" target=\"_parent\"><img src=\"https://colab.research.google.com/assets/colab-badge.svg\" alt=\"Open In Colab\"/></a>"
      ]
    },
    {
      "cell_type": "code",
      "execution_count": null,
      "metadata": {
        "id": "JD9jvgNd5a8i"
      },
      "outputs": [],
      "source": [
        "n <-200\n",
        "\n",
        "logit <- function(par,x){\n",
        "  p <- exp(par[1]+par[2]*x)/(1+exp(par[1]+par[2]*x))\n",
        "}\n",
        "\n",
        "#simulate data\n",
        "x <- runif(n,-2,2)\n",
        "par <- c(0,1)\n",
        "p <- logit(par,x)\n",
        "y <- rbinom(n,1,p)\n",
        "\n",
        "data <- data.frame(y,x)\n",
        "\n",
        "#define LL\n",
        "nLL_logit <- function(par,data){\n",
        "  y <- data$y\n",
        "  x <- data$x\n",
        "  p <- logit(par,x)\n",
        "  nLL <- -sum((y*log(p) + (1-y)*log(1-p)))\n",
        "  return(nLL)\n",
        "}\n",
        "\n",
        "#what is LL at initial point?\n",
        "par0 <- c(0,0)\n",
        "-nLL_logit(par0,data)\n",
        "\n",
        "#what is LL at true value?\n",
        "-nLL_logit(par,data)\n",
        "\n",
        "#what are the parameter values that maximize LL? (i.e. minimize nLL)\n",
        "out <- optim(par0,nLL_logit,method=\"BFGS\",control=list(maxit=2000,reltol=1e-4), data=data)\n",
        "out\n",
        "\n"
      ]
    }
  ]
}