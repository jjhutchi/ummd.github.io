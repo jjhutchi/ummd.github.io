{
  "nbformat": 4,
  "nbformat_minor": 0,
  "metadata": {
    "colab": {
      "provenance": [],
      "authorship_tag": "ABX9TyPVEGjxRj6wzx1WUG2Qn3ih",
      "include_colab_link": true
    },
    "kernelspec": {
      "name": "ir",
      "display_name": "R"
    },
    "language_info": {
      "name": "R"
    }
  },
  "cells": [
    {
      "cell_type": "markdown",
      "metadata": {
        "id": "view-in-github",
        "colab_type": "text"
      },
      "source": [
        "<a href=\"https://colab.research.google.com/github/ummd/ummd.github.io/blob/master/Teaching/RSM3053/Lecture3.ipynb\" target=\"_parent\"><img src=\"https://colab.research.google.com/assets/colab-badge.svg\" alt=\"Open In Colab\"/></a>"
      ]
    },
    {
      "cell_type": "code",
      "execution_count": 22,
      "metadata": {
        "colab": {
          "base_uri": "https://localhost:8080/"
        },
        "id": "0gl7wVNYEOEn",
        "outputId": "da4746f3-f044-459c-e6aa-f3c0b40c8ac7"
      },
      "outputs": [
        {
          "output_type": "stream",
          "name": "stderr",
          "text": [
            "Installing package into ‘/usr/local/lib/R/site-library’\n",
            "(as ‘lib’ is unspecified)\n",
            "\n",
            "Installing package into ‘/usr/local/lib/R/site-library’\n",
            "(as ‘lib’ is unspecified)\n",
            "\n",
            "also installing the dependencies ‘Formula’, ‘Rcpp’, ‘RcppEigen’, ‘randomizr’, ‘estimatr’\n",
            "\n",
            "\n"
          ]
        }
      ],
      "source": [
        "install.packages('fabricatr')\n",
        "install.packages('DeclareDesign')"
      ]
    },
    {
      "cell_type": "code",
      "source": [
        "library(fabricatr)\n",
        "\n",
        "voters <- fabricate(\n",
        "  N = 1000,\n",
        "  group_id = rep(1:10, 100),\n",
        "  ideology = draw_normal_icc(mean = 0, N = N, clusters = group_id, ICC = 0.7),\n",
        "  ideological_label = draw_ordered(\n",
        "    x = ideology,\n",
        "    break_labels = c(\n",
        "      \"Very Conservative\", \"Conservative\",\n",
        "      \"Liberal\", \"Very Liberal\"\n",
        "    )\n",
        "  ),\n",
        "  income = exp(rlnorm(n = N, meanlog = 2.4 - (ideology * 0.1), sdlog = 0.12)),\n",
        "  Q1_immigration = draw_likert(x = ideology, min = -5, max = 5, bins = 7),\n",
        "  Q2_defence = draw_likert(x = ideology + 0.5, min = -5, max = 5, bins = 7),\n",
        "  treatment = draw_binary(0.5, N = N),\n",
        "  proposition_vote = draw_binary(latent = ideology + 1.2 * treatment, link = \"probit\")\n",
        ")\n",
        "head(voters)"
      ],
      "metadata": {
        "colab": {
          "base_uri": "https://localhost:8080/",
          "height": 309
        },
        "id": "WiETvelpEyi4",
        "outputId": "c99bcbee-fdbd-44a0-9119-7e86a9a3b0a1"
      },
      "execution_count": 4,
      "outputs": [
        {
          "output_type": "display_data",
          "data": {
            "text/html": [
              "<table class=\"dataframe\">\n",
              "<caption>A data.frame: 6 × 9</caption>\n",
              "<thead>\n",
              "\t<tr><th></th><th scope=col>ID</th><th scope=col>group_id</th><th scope=col>ideology</th><th scope=col>ideological_label</th><th scope=col>income</th><th scope=col>Q1_immigration</th><th scope=col>Q2_defence</th><th scope=col>treatment</th><th scope=col>proposition_vote</th></tr>\n",
              "\t<tr><th></th><th scope=col>&lt;chr&gt;</th><th scope=col>&lt;int&gt;</th><th scope=col>&lt;dbl&gt;</th><th scope=col>&lt;ord&gt;</th><th scope=col>&lt;dbl&gt;</th><th scope=col>&lt;dbl&gt;</th><th scope=col>&lt;dbl&gt;</th><th scope=col>&lt;int&gt;</th><th scope=col>&lt;int&gt;</th></tr>\n",
              "</thead>\n",
              "<tbody>\n",
              "\t<tr><th scope=row>1</th><td>0001</td><td>1</td><td>-0.7714024</td><td>Conservative     </td><td>  212314.813</td><td>3</td><td>4</td><td>0</td><td>0</td></tr>\n",
              "\t<tr><th scope=row>2</th><td>0002</td><td>2</td><td>-3.8702572</td><td>Very Conservative</td><td>22100314.577</td><td>1</td><td>2</td><td>1</td><td>0</td></tr>\n",
              "\t<tr><th scope=row>3</th><td>0003</td><td>3</td><td>-1.9843458</td><td>Very Conservative</td><td>  649130.465</td><td>3</td><td>3</td><td>0</td><td>0</td></tr>\n",
              "\t<tr><th scope=row>4</th><td>0004</td><td>4</td><td>-0.1569052</td><td>Conservative     </td><td>  241317.615</td><td>4</td><td>4</td><td>0</td><td>0</td></tr>\n",
              "\t<tr><th scope=row>5</th><td>0005</td><td>5</td><td> 2.7133168</td><td>Very Liberal     </td><td>    3262.371</td><td>6</td><td>6</td><td>1</td><td>1</td></tr>\n",
              "\t<tr><th scope=row>6</th><td>0006</td><td>6</td><td>-0.4318626</td><td>Conservative     </td><td>  104985.836</td><td>4</td><td>4</td><td>1</td><td>1</td></tr>\n",
              "</tbody>\n",
              "</table>\n"
            ],
            "text/markdown": "\nA data.frame: 6 × 9\n\n| <!--/--> | ID &lt;chr&gt; | group_id &lt;int&gt; | ideology &lt;dbl&gt; | ideological_label &lt;ord&gt; | income &lt;dbl&gt; | Q1_immigration &lt;dbl&gt; | Q2_defence &lt;dbl&gt; | treatment &lt;int&gt; | proposition_vote &lt;int&gt; |\n|---|---|---|---|---|---|---|---|---|---|\n| 1 | 0001 | 1 | -0.7714024 | Conservative      |   212314.813 | 3 | 4 | 0 | 0 |\n| 2 | 0002 | 2 | -3.8702572 | Very Conservative | 22100314.577 | 1 | 2 | 1 | 0 |\n| 3 | 0003 | 3 | -1.9843458 | Very Conservative |   649130.465 | 3 | 3 | 0 | 0 |\n| 4 | 0004 | 4 | -0.1569052 | Conservative      |   241317.615 | 4 | 4 | 0 | 0 |\n| 5 | 0005 | 5 |  2.7133168 | Very Liberal      |     3262.371 | 6 | 6 | 1 | 1 |\n| 6 | 0006 | 6 | -0.4318626 | Conservative      |   104985.836 | 4 | 4 | 1 | 1 |\n\n",
            "text/latex": "A data.frame: 6 × 9\n\\begin{tabular}{r|lllllllll}\n  & ID & group\\_id & ideology & ideological\\_label & income & Q1\\_immigration & Q2\\_defence & treatment & proposition\\_vote\\\\\n  & <chr> & <int> & <dbl> & <ord> & <dbl> & <dbl> & <dbl> & <int> & <int>\\\\\n\\hline\n\t1 & 0001 & 1 & -0.7714024 & Conservative      &   212314.813 & 3 & 4 & 0 & 0\\\\\n\t2 & 0002 & 2 & -3.8702572 & Very Conservative & 22100314.577 & 1 & 2 & 1 & 0\\\\\n\t3 & 0003 & 3 & -1.9843458 & Very Conservative &   649130.465 & 3 & 3 & 0 & 0\\\\\n\t4 & 0004 & 4 & -0.1569052 & Conservative      &   241317.615 & 4 & 4 & 0 & 0\\\\\n\t5 & 0005 & 5 &  2.7133168 & Very Liberal      &     3262.371 & 6 & 6 & 1 & 1\\\\\n\t6 & 0006 & 6 & -0.4318626 & Conservative      &   104985.836 & 4 & 4 & 1 & 1\\\\\n\\end{tabular}\n",
            "text/plain": [
              "  ID   group_id ideology   ideological_label income       Q1_immigration\n",
              "1 0001 1        -0.7714024 Conservative        212314.813 3             \n",
              "2 0002 2        -3.8702572 Very Conservative 22100314.577 1             \n",
              "3 0003 3        -1.9843458 Very Conservative   649130.465 3             \n",
              "4 0004 4        -0.1569052 Conservative        241317.615 4             \n",
              "5 0005 5         2.7133168 Very Liberal          3262.371 6             \n",
              "6 0006 6        -0.4318626 Conservative        104985.836 4             \n",
              "  Q2_defence treatment proposition_vote\n",
              "1 4          0         0               \n",
              "2 2          1         0               \n",
              "3 3          0         0               \n",
              "4 4          0         0               \n",
              "5 6          1         1               \n",
              "6 4          1         1               "
            ]
          },
          "metadata": {}
        }
      ]
    },
    {
      "cell_type": "code",
      "source": [
        "panel <- fabricate(\n",
        "  subjects = add_level(N = 150, subj_fe = runif(N, 1, 10)),\n",
        "  trials = add_level(N = 25, trial_shock = runif(N, 1, 10), nest = FALSE),\n",
        "  observations = cross_levels(\n",
        "    by = join_using(trials,subjects),\n",
        "    outcome_it = subj_fe + trial_shock + rnorm(N, 0, 2)\n",
        "  )\n",
        ")"
      ],
      "metadata": {
        "id": "CKjo9mOCI8TW"
      },
      "execution_count": 19,
      "outputs": []
    },
    {
      "cell_type": "code",
      "source": [
        "panel <- fabricate(\n",
        "  subjects = add_level(N = 150, subj_fe = runif(N, 1, 10)),\n",
        "  trials = add_level(N = 25, trial_shock = runif(N, 1, 10), nest = FALSE),\n",
        "  observations = cross_levels(\n",
        "    by = join_using(trials,subjects),\n",
        "    outcome_it = draw_likert(x = subj_fe + trial_shock + rnorm(N, 0, 2), min = 0, max = 20, bins = 7)\n",
        "  )\n",
        ")"
      ],
      "metadata": {
        "id": "0DbunUBxGQ3z"
      },
      "execution_count": 20,
      "outputs": []
    },
    {
      "cell_type": "code",
      "source": [
        "library(DeclareDesign)\n",
        "\n",
        "design <-\n",
        "  declare_model(\n",
        "    N = 100,\n",
        "    potential_outcomes(Y ~ rbinom(N, size = 1, prob = 0.5 + 0.2 * Z))\n",
        "  ) +\n",
        "  declare_inquiry(ATE = 0.2) +\n",
        "  declare_assignment(Z = complete_ra(N, m = 50)) +\n",
        "  declare_measurement(Y = reveal_outcomes(Y ~ Z)) +\n",
        "  declare_estimator(Y ~ Z, .method = lm_robust, inquiry = \"ATE\")\n",
        "\n",
        "diagnosands <-\n",
        "  declare_diagnosands(bias = mean(estimate - estimand),\n",
        "                      power = mean(p.value <= 0.05))\n",
        "\n",
        "diagnosis <- diagnose_design(design, diagnosands = diagnosands)\n",
        "diagnosis"
      ],
      "metadata": {
        "colab": {
          "base_uri": "https://localhost:8080/",
          "height": 161
        },
        "id": "q-TqASydMG9l",
        "outputId": "9350a560-c48a-4c2b-c151-57be2f4df04f"
      },
      "execution_count": 40,
      "outputs": [
        {
          "output_type": "display_data",
          "data": {
            "text/plain": [
              "\n",
              "Research design diagnosis based on 500 simulations. Diagnosis completed in 6 secs. Diagnosand estimates with bootstrapped standard errors in parentheses (100 replicates).\n",
              "\n",
              " Design Inquiry Estimator Outcome Term N Sims   Bias  Power\n",
              " design     ATE estimator       Y    Z    500  -0.00   0.51\n",
              "                                              (0.00) (0.02)"
            ]
          },
          "metadata": {}
        }
      ]
    },
    {
      "cell_type": "code",
      "source": [
        "designs <- redesign(design, N = c(100, 200, 300, 500))\n",
        "diagnose_design(designs)"
      ],
      "metadata": {
        "colab": {
          "base_uri": "https://localhost:8080/",
          "height": 427
        },
        "id": "HOnQ65WXOyB6",
        "outputId": "5c0bf6d3-ceef-4210-d682-b87b92ef49e9"
      },
      "execution_count": 41,
      "outputs": [
        {
          "output_type": "display_data",
          "data": {
            "text/plain": [
              "\n",
              "Research design diagnosis based on 500 simulations. Diagnosis completed in 26 secs. Diagnosand estimates with bootstrapped standard errors in parentheses (100 replicates).\n",
              "\n",
              "   Design   N Inquiry Estimator Outcome Term N Sims Mean Estimand Mean Estimate\n",
              " design_1 100     ATE estimator       Y    Z    500          0.20          0.20\n",
              "                                                           (0.00)        (0.00)\n",
              " design_2 200     ATE estimator       Y    Z    500          0.20          0.20\n",
              "                                                           (0.00)        (0.00)\n",
              " design_3 300     ATE estimator       Y    Z    500          0.20          0.20\n",
              "                                                           (0.00)        (0.00)\n",
              " design_4 500     ATE estimator       Y    Z    500          0.20          0.21\n",
              "                                                           (0.00)        (0.00)\n",
              "   Bias SD Estimate   RMSE  Power Coverage\n",
              "  -0.00        0.09   0.09   0.54     0.96\n",
              " (0.00)      (0.00) (0.00) (0.02)   (0.01)\n",
              "  -0.00        0.10   0.10   0.55     0.95\n",
              " (0.00)      (0.00) (0.00) (0.02)   (0.01)\n",
              "  -0.00        0.09   0.09   0.54     0.96\n",
              " (0.00)      (0.00) (0.00) (0.02)   (0.01)\n",
              "   0.01        0.09   0.09   0.58     0.96\n",
              " (0.00)      (0.00) (0.00) (0.02)   (0.01)"
            ]
          },
          "metadata": {}
        }
      ]
    },
    {
      "cell_type": "code",
      "source": [
        "library(DeclareDesign)\n",
        "\n",
        "design <-\n",
        "  declare_model(\n",
        "    N = 100,\n",
        "    potential_outcomes(Y ~ draw_likert(x = Z + 10 + rnorm(N, 0, 2), min = 0, max = 20, bins = 7))\n",
        "  ) +\n",
        "  declare_inquiry(ATE = 1) +\n",
        "  declare_assignment(Z = complete_ra(N, m = 50)) +\n",
        "  declare_measurement(Y = reveal_outcomes(Y ~ Z)) +\n",
        "  declare_estimator(Y ~ Z, .method = lm_robust, inquiry = \"ATE\")\n",
        "\n",
        "diagnosands <-\n",
        "  declare_diagnosands(bias = mean(estimate - estimand),\n",
        "                      power = mean(p.value <= 0.05))\n",
        "\n",
        "diagnosis <- diagnose_design(design, diagnosands = diagnosands)\n",
        "diagnosis"
      ],
      "metadata": {
        "colab": {
          "base_uri": "https://localhost:8080/",
          "height": 161
        },
        "id": "ty1fGpi-Rxhg",
        "outputId": "a53a64d5-d921-4fd9-a286-f9bbf92d6302"
      },
      "execution_count": 44,
      "outputs": [
        {
          "output_type": "display_data",
          "data": {
            "text/plain": [
              "\n",
              "Research design diagnosis based on 500 simulations. Diagnosis completed in 7 secs. Diagnosand estimates with bootstrapped standard errors in parentheses (100 replicates).\n",
              "\n",
              " Design Inquiry Estimator Outcome Term N Sims   Bias  Power\n",
              " design     ATE estimator       Y    Z    500  -0.65   0.61\n",
              "                                              (0.01) (0.02)"
            ]
          },
          "metadata": {}
        }
      ]
    }
  ]
}