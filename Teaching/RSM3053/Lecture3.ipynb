{
  "nbformat": 4,
  "nbformat_minor": 0,
  "metadata": {
    "colab": {
      "provenance": [],
      "authorship_tag": "ABX9TyNYRqSemF+mbWuiHcWlVKRk",
      "include_colab_link": true
    },
    "kernelspec": {
      "name": "python3",
      "display_name": "Python 3"
    },
    "language_info": {
      "name": "python"
    }
  },
  "cells": [
    {
      "cell_type": "markdown",
      "metadata": {
        "id": "view-in-github",
        "colab_type": "text"
      },
      "source": [
        "<a href=\"https://colab.research.google.com/github/ummd/ummd.github.io/blob/master/Teaching/RSM3053/Lecture3.ipynb\" target=\"_parent\"><img src=\"https://colab.research.google.com/assets/colab-badge.svg\" alt=\"Open In Colab\"/></a>"
      ]
    },
    {
      "cell_type": "code",
      "execution_count": null,
      "metadata": {
        "id": "ftRqIzea6AM9"
      },
      "outputs": [],
      "source": [
        "set.seed(1)\n",
        "S <- 1000 #number of samples\n",
        "n <- 100 #number of observations per sample\n",
        "\n",
        "b0 <- 0\n",
        "b1 <- .015 #the alternative is true, b1 is not 0\n",
        "\n",
        "e <- replicate(S,rnorm(n)) #draw S samples\n",
        "\n",
        "x <- 1:n\n",
        "\n",
        "y <- b0 + b1*x + e\n",
        "\n",
        "t0_alt=matrix(,1,S) #initialize matrix to store tstat for beta_1\n",
        "t1_alt=matrix(,1,S) #initialize matrix to store tstat for beta_2\n",
        "\n",
        "for (s in 1:S){\n",
        "    lm.fit=lm(y[,s]~x) # estimate the linear model on the sample s.\n",
        "    t0_alt[,s] <- summary(lm.fit)$coefficients[1,3]   #store the tstat for beta_0\n",
        "    t1_alt[,s] <- summary(lm.fit)$coefficients[2,3]   #store the tstats for beta_1\n",
        "}\n"
      ]
    }
  ]
}